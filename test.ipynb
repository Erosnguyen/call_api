{
 "cells": [
  {
   "cell_type": "code",
   "execution_count": 9,
   "metadata": {},
   "outputs": [],
   "source": [
    "import pandas as pd"
   ]
  },
  {
   "cell_type": "code",
   "execution_count": 11,
   "metadata": {},
   "outputs": [],
   "source": [
    "def check_df(value):\n",
    "    check_text = f\"{value}\"\n",
    "    df = pd.read_csv('realtime_ord.csv')\n",
    "    #check for text\n",
    "    mask  = df['Security_Code'].str.match(check_text)\n",
    "    \n",
    "    if mask.any():\n",
    "        return df.loc[mask]\n"
   ]
  },
  {
   "cell_type": "code",
   "execution_count": 12,
   "metadata": {},
   "outputs": [
    {
     "name": "stdout",
     "output_type": "stream",
     "text": [
      "False\n"
     ]
    }
   ],
   "source": [
    "\n",
    "def check_nan (callback):\n",
    "    try:\n",
    "        callback['Security_Code'].iloc[0][-2:]\n",
    "        callback['time_2'] = [float(str(i)[-4:-2])*12 + float(str(i)[-2:]) for i in callback['Security_Code']]\n",
    "        df1 = callback.groupby('Time').min()\n",
    "        df2= df1.drop('time_2',axis=1)\n",
    "        return True \n",
    "    except:\n",
    "        return False\n",
    "    \n",
    "df=check_df('VN30F')\n",
    "print(check_nan(df))"
   ]
  },
  {
   "cell_type": "code",
   "execution_count": 13,
   "metadata": {},
   "outputs": [
    {
     "ename": "TypeError",
     "evalue": "'NoneType' object is not subscriptable",
     "output_type": "error",
     "traceback": [
      "\u001b[0;31m---------------------------------------------------------------------------\u001b[0m",
      "\u001b[0;31mTypeError\u001b[0m                                 Traceback (most recent call last)",
      "Cell \u001b[0;32mIn[13], line 1\u001b[0m\n\u001b[0;32m----> 1\u001b[0m df[\u001b[39m'\u001b[39;49m\u001b[39mSecurity_Code\u001b[39;49m\u001b[39m'\u001b[39;49m]\u001b[39m.\u001b[39miloc[\u001b[39m0\u001b[39m][\u001b[39m-\u001b[39m\u001b[39m2\u001b[39m:]\n\u001b[1;32m      2\u001b[0m df[\u001b[39m'\u001b[39m\u001b[39mtime_2\u001b[39m\u001b[39m'\u001b[39m] \u001b[39m=\u001b[39m [\u001b[39mfloat\u001b[39m(\u001b[39mstr\u001b[39m(i)[\u001b[39m-\u001b[39m\u001b[39m4\u001b[39m:\u001b[39m-\u001b[39m\u001b[39m2\u001b[39m])\u001b[39m*\u001b[39m\u001b[39m12\u001b[39m \u001b[39m+\u001b[39m \u001b[39mfloat\u001b[39m(\u001b[39mstr\u001b[39m(i)[\u001b[39m-\u001b[39m\u001b[39m2\u001b[39m:]) \u001b[39mfor\u001b[39;00m i \u001b[39min\u001b[39;00m df[\u001b[39m'\u001b[39m\u001b[39mSecurity_Code\u001b[39m\u001b[39m'\u001b[39m]]\n\u001b[1;32m      3\u001b[0m df1 \u001b[39m=\u001b[39m df\u001b[39m.\u001b[39mgroupby(\u001b[39m'\u001b[39m\u001b[39mTime\u001b[39m\u001b[39m'\u001b[39m)\u001b[39m.\u001b[39mmin()\n",
      "\u001b[0;31mTypeError\u001b[0m: 'NoneType' object is not subscriptable"
     ]
    }
   ],
   "source": [
    "df['Security_Code'].iloc[0][-2:]\n",
    "df['time_2'] = [float(str(i)[-4:-2])*12 + float(str(i)[-2:]) for i in df['Security_Code']]\n",
    "df1 = df.groupby('Time').min()\n",
    "df2= df1.drop('time_2',axis=1)\n",
    "df2"
   ]
  },
  {
   "cell_type": "code",
   "execution_count": null,
   "metadata": {},
   "outputs": [],
   "source": []
  }
 ],
 "metadata": {
  "kernelspec": {
   "display_name": "Python 3",
   "language": "python",
   "name": "python3"
  },
  "language_info": {
   "codemirror_mode": {
    "name": "ipython",
    "version": 3
   },
   "file_extension": ".py",
   "mimetype": "text/x-python",
   "name": "python",
   "nbconvert_exporter": "python",
   "pygments_lexer": "ipython3",
   "version": "3.10.6 (main, Nov 14 2022, 16:10:14) [GCC 11.3.0]"
  },
  "orig_nbformat": 4,
  "vscode": {
   "interpreter": {
    "hash": "e7370f93d1d0cde622a1f8e1c04877d8463912d04d973331ad4851f04de6915a"
   }
  }
 },
 "nbformat": 4,
 "nbformat_minor": 2
}
